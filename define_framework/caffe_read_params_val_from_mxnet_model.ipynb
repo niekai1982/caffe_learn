{
 "cells": [
  {
   "cell_type": "markdown",
   "metadata": {},
   "source": [
    "- input  : 'data' , params{'shape':(3,10,10)}\n",
    "\n",
    "- layer_1: 'conv' , - params{'input_channel':3,'output_channel':8,'kernel_size':3,'pad':1,'stride':1,'group':1}\n",
    "\n",
    "- layer_2: 'batchnorm' , params{}\n",
    "\n",
    "- layer_3: 'relu'\n",
    "\n",
    "- layer_4: 'conv_dw', \n",
    "params{'input_channel':8,'output_channel':8,'kernel_size':3,'pad':1,'stride':1,'group':8}\n",
    "\n",
    "- layer_5: 'conv_dw_batchnorm', params{}\n",
    "\n",
    "- layer_6: 'conv_dw_relu'\n",
    "\n",
    "- layer_7: 'conv', \n",
    "params{'input_channel':8,'output_channel':16,'kernel_size':1,'pad':1,'stride':1,'group':1}"
   ]
  },
  {
   "cell_type": "code",
   "execution_count": 1,
   "metadata": {},
   "outputs": [
    {
     "name": "stderr",
     "output_type": "stream",
     "text": [
      "/Library/Python/2.7/site-packages/h5py/__init__.py:34: FutureWarning: Conversion of the second argument of issubdtype from `float` to `np.floating` is deprecated. In future, it will be treated as `np.float64 == np.dtype(float).type`.\n",
      "  from ._conv import register_converters as _register_converters\n"
     ]
    }
   ],
   "source": [
    "import mxnet as mx\n",
    "\n",
    "import numpy as np\n",
    "\n",
    "from mxnet import ndarray as nd\n",
    "\n",
    "import caffe\n",
    "\n",
    "from collections import namedtuple"
   ]
  },
  {
   "cell_type": "markdown",
   "metadata": {},
   "source": [
    "#### set caffe made"
   ]
  },
  {
   "cell_type": "code",
   "execution_count": 2,
   "metadata": {},
   "outputs": [],
   "source": [
    "caffe.set_mode_cpu()\n",
    "ctx = mx.cpu()"
   ]
  },
  {
   "cell_type": "markdown",
   "metadata": {},
   "source": [
    "#### load model using mxnet"
   ]
  },
  {
   "cell_type": "code",
   "execution_count": 642,
   "metadata": {},
   "outputs": [],
   "source": [
    "#mxnet load pretrained model\n",
    "syms, args, auxs = mx.model.load_checkpoint('test_net', epoch=1)"
   ]
  },
  {
   "cell_type": "code",
   "execution_count": 655,
   "metadata": {},
   "outputs": [],
   "source": [
    "internals = syms.get_internals()\n",
    "conv1 = internals[2]\n",
    "conv2_dw_batchnorm = internals[15]\n",
    "conv2 = internals[17]\n",
    "full_connected = internals[21]\n",
    "group = mx.symbol.Group([full_connected, conv2_dw_batchnorm, conv2, syms])"
   ]
  },
  {
   "cell_type": "code",
   "execution_count": 656,
   "metadata": {},
   "outputs": [],
   "source": [
    "mod = mx.mod.Module(symbol=group, context=ctx)\n",
    "mod.bind(for_training=False, data_shapes=[('data',(1,3,20,20))])\n",
    "mod.set_params(arg_params=args, aux_params=auxs)"
   ]
  },
  {
   "cell_type": "markdown",
   "metadata": {},
   "source": [
    "#### load prototxt and init params using mx model"
   ]
  },
  {
   "cell_type": "code",
   "execution_count": 657,
   "metadata": {},
   "outputs": [],
   "source": [
    "net = caffe.Net('sample_net_deploy.prototxt', caffe.TEST)\n",
    "\n",
    "net.params['conv1'][0].data[...] = args['conv1_weight'].asnumpy()\n",
    "\n",
    "net.params['conv1_batchnorm'][0].data[...] = np.array([0,0])#auxs['conv1_batchnorm_moving_mean'].asnumpy()\n",
    "\n",
    "net.params['conv1_batchnorm'][1].data[...] = np.array([1,1])#auxs['conv1_batchnorm_moving_var'].asnumpy()\n",
    "\n",
    "net.params['conv1_batchnorm'][2].data[...] = np.array([1])#args['conv1_batchnorm_gamma'].asnumpy()[0]\n",
    "\n",
    "net.params['conv2_dw'][0].data[...] = args['conv2_dw_weight'].asnumpy()\n",
    "\n",
    "net.params['conv2_dw_batchnorm'][0].data[...] = np.array([0,0])#auxs['conv2_dw_batchnorm_moving_mean'].asnumpy()\n",
    "\n",
    "net.params['conv2_dw_batchnorm'][1].data[...] = np.array([1,1])#auxs['conv2_dw_batchnorm_moving_var'].asnumpy()\n",
    "\n",
    "net.params['conv2_dw_batchnorm'][2].data[...] = np.array([1])#args['conv2_dw_batchnorm_gamma'].asnumpy()[0]\n",
    "\n",
    "net.params['conv2'][0].data[...] = args['conv2_weight'].asnumpy()\n",
    "\n",
    "net.params['fc'][0].data[...] = args['fullyconnected0_weight'].asnumpy()\n",
    "\n",
    "net.params['fc'][1].data[...] = args['fullyconnected0_bias'].asnumpy()"
   ]
  },
  {
   "cell_type": "markdown",
   "metadata": {},
   "source": [
    "#### numpy save array to file\n",
    "\n",
    "data = np.random.rand(1,3,20,20)\n",
    "\n",
    "np.save('test_data', data)"
   ]
  },
  {
   "cell_type": "code",
   "execution_count": 659,
   "metadata": {},
   "outputs": [],
   "source": [
    "data = np.load('test_data.npy')"
   ]
  },
  {
   "cell_type": "markdown",
   "metadata": {},
   "source": [
    "#### caffe net forward"
   ]
  },
  {
   "cell_type": "code",
   "execution_count": 660,
   "metadata": {},
   "outputs": [
    {
     "name": "stdout",
     "output_type": "stream",
     "text": [
      "{'InnerProduct1': array([[ 8.2888597e-08,  6.5315042e-09, -4.4180632e-09, -6.2771512e-09]],\n",
      "      dtype=float32)}\n"
     ]
    }
   ],
   "source": [
    "net.blobs['data'].data[...] = data\n",
    "\n",
    "out = net.forward()\n",
    "\n",
    "print out"
   ]
  },
  {
   "cell_type": "markdown",
   "metadata": {},
   "source": [
    "#### mxnet mod predict"
   ]
  },
  {
   "cell_type": "code",
   "execution_count": 661,
   "metadata": {},
   "outputs": [],
   "source": [
    "out = mod.predict(mx.io.NDArrayIter(data, batch_size=1))"
   ]
  },
  {
   "cell_type": "markdown",
   "metadata": {},
   "source": [
    "#### mxnet mod forward"
   ]
  },
  {
   "cell_type": "code",
   "execution_count": 662,
   "metadata": {},
   "outputs": [],
   "source": [
    "Batch = namedtuple('Batch',['data'])\n",
    "\n",
    "mod.forward(Batch([nd.array(data)]))\n",
    "\n",
    "out = mod.get_outputs()\n",
    "\n",
    "#nd.softmax(nd.array(out['InnerProduct1']))"
   ]
  },
  {
   "cell_type": "code",
   "execution_count": null,
   "metadata": {},
   "outputs": [],
   "source": []
  }
 ],
 "metadata": {
  "kernelspec": {
   "display_name": "Python 2",
   "language": "python",
   "name": "python2"
  },
  "language_info": {
   "codemirror_mode": {
    "name": "ipython",
    "version": 2
   },
   "file_extension": ".py",
   "mimetype": "text/x-python",
   "name": "python",
   "nbconvert_exporter": "python",
   "pygments_lexer": "ipython2",
   "version": "2.7.10"
  }
 },
 "nbformat": 4,
 "nbformat_minor": 2
}
