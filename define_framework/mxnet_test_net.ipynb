{
 "cells": [
  {
   "cell_type": "markdown",
   "metadata": {},
   "source": [
    "#### create net framework\n",
    "---------\n",
    "- input  : 'data' , params{'shape':(3,10,10)}\n",
    "\n",
    "- layer_1: 'conv' , - params{'input_channel':3,'output_channel':8,'kernel_size':3,'pad':1,'stride':1,'group':1}\n",
    "\n",
    "- layer_2: 'batchnorm' , params{}\n",
    "\n",
    "- layer_3: 'relu'\n",
    "\n",
    "- layer_4: 'conv_dw', \n",
    "params{'input_channel':8,'output_channel':8,'kernel_size':3,'pad':1,'stride':1,'group':8}\n",
    "\n",
    "- layer_5: 'conv_dw_batchnorm', params{}\n",
    "\n",
    "- layer_6: 'conv_dw_relu'\n",
    "\n",
    "- layer_7: 'conv', \n",
    "params{'input_channel':8,'output_channel':16,'kernel_size':1,'pad':1,'stride':1,'group':1}"
   ]
  },
  {
   "cell_type": "code",
   "execution_count": 1,
   "metadata": {},
   "outputs": [
    {
     "name": "stderr",
     "output_type": "stream",
     "text": [
      "/Library/Python/2.7/site-packages/h5py/__init__.py:34: FutureWarning: Conversion of the second argument of issubdtype from `float` to `np.floating` is deprecated. In future, it will be treated as `np.float64 == np.dtype(float).type`.\n",
      "  from ._conv import register_converters as _register_converters\n"
     ]
    }
   ],
   "source": [
    "import logging\n",
    "import mxnet as mx\n",
    "import logging \n",
    "import numpy as np\n",
    "from mxnet import autograd\n",
    "from mxnet import ndarray as nd\n",
    "from mxnet import gluon\n",
    "from mxnet import image\n",
    "import mxnet.gluon.nn as nn"
   ]
  },
  {
   "cell_type": "code",
   "execution_count": 2,
   "metadata": {},
   "outputs": [],
   "source": [
    "logging.getLogger().setLevel(logging.INFO)"
   ]
  },
  {
   "cell_type": "markdown",
   "metadata": {},
   "source": [
    "choose device"
   ]
  },
  {
   "cell_type": "code",
   "execution_count": 3,
   "metadata": {},
   "outputs": [],
   "source": [
    "try:\n",
    "    ctx = mx.gpu()\n",
    "    _ = nd.array((1,),ctx=ctx)\n",
    "except:\n",
    "    ctx = mx.cpu()"
   ]
  },
  {
   "cell_type": "markdown",
   "metadata": {},
   "source": [
    "#### Define the network\n",
    "-------"
   ]
  },
  {
   "cell_type": "markdown",
   "metadata": {},
   "source": [
    "##### prepare data\n",
    "\n",
    "Q : train_iter and test_iter must have the same batch_size ?"
   ]
  },
  {
   "cell_type": "code",
   "execution_count": 4,
   "metadata": {},
   "outputs": [],
   "source": [
    "data_set = nd.random.normal(shape=(10,3,20,20))\n",
    "\n",
    "train_iter = mx.io.NDArrayIter(data=data_set, batch_size=1)\n",
    "\n",
    "test_iter = mx.io.NDArrayIter(data=data_set[1:2,:,:,:], batch_size=1)"
   ]
  },
  {
   "cell_type": "markdown",
   "metadata": {},
   "source": [
    "symbol generation"
   ]
  },
  {
   "cell_type": "code",
   "execution_count": 5,
   "metadata": {},
   "outputs": [],
   "source": [
    "data = mx.sym.Variable('data')\n",
    "\n",
    "conv1 = mx.sym.Convolution(data, name='conv1', num_filter=2, kernel=(3,3), pad=(1, 1), no_bias=True, num_group=1)\n",
    "\n",
    "conv1_batchnorm = mx.sym.BatchNorm(conv1, name='conv1_batchnorm', fix_gamma=True, eps=1e-5, momentum=0.9, axis=1)\n",
    "\n",
    "conv1_relu = mx.sym.Activation(conv1_batchnorm, act_type='relu', name='conv1_relu')\n",
    "\n",
    "conv2_dw =mx.sym.Convolution(conv1_relu, name='conv2_dw', num_filter=2, kernel=(3,3), pad=(1, 1), no_bias=True, num_group=2)\n",
    "\n",
    "conv2_dw_batchnorm = mx.sym.BatchNorm(conv2_dw, name='conv2_dw_batchnorm', fix_gamma=True, eps=1e-5, momentum=0.9, axis=1)\n",
    "\n",
    "conv2_dw_relu = mx.sym.Activation(conv2_dw_batchnorm, act_type='relu', name='conv2_dw_relu')\n",
    "\n",
    "conv2 = mx.sym.Convolution(conv2_dw_batchnorm, name='conv2', num_filter=2, kernel=(1,1), pad=(0, 0), no_bias=True, num_group=1)\n",
    "\n",
    "flatten = mx.sym.flatten(data=conv2)\n",
    "\n",
    "fc = mx.sym.FullyConnected(data=flatten, num_hidden=4)\n",
    "\n",
    "net = mx.sym.SoftmaxOutput(data=fc, name='softmax')"
   ]
  },
  {
   "cell_type": "code",
   "execution_count": 6,
   "metadata": {},
   "outputs": [],
   "source": [
    "# mx.viz.plot_network(net)  #has some error"
   ]
  },
  {
   "cell_type": "markdown",
   "metadata": {},
   "source": [
    "symbol to model"
   ]
  },
  {
   "cell_type": "code",
   "execution_count": 7,
   "metadata": {},
   "outputs": [],
   "source": [
    "model = mx.mod.Module(symbol=net, context=ctx)"
   ]
  },
  {
   "cell_type": "markdown",
   "metadata": {},
   "source": [
    "bind data, to get the shape"
   ]
  },
  {
   "cell_type": "code",
   "execution_count": 8,
   "metadata": {},
   "outputs": [
    {
     "name": "stderr",
     "output_type": "stream",
     "text": [
      "/Library/Python/2.7/site-packages/mxnet/module/base_module.py:65: UserWarning: Data provided by label_shapes don't match names specified by label_names ([] vs. ['softmax_label'])\n",
      "  warnings.warn(msg)\n"
     ]
    }
   ],
   "source": [
    "model.bind(data_shapes=train_iter.provide_data)\n",
    "\n",
    "model.init_params()\n",
    "\n",
    "prob = model.predict(test_iter)"
   ]
  },
  {
   "cell_type": "code",
   "execution_count": 9,
   "metadata": {},
   "outputs": [
    {
     "name": "stdout",
     "output_type": "stream",
     "text": [
      "\n",
      "[[0.25       0.25000003 0.24999994 0.25      ]]\n",
      "<NDArray 1x4 @cpu(0)>\n"
     ]
    }
   ],
   "source": [
    "print prob"
   ]
  },
  {
   "cell_type": "markdown",
   "metadata": {},
   "source": [
    "#### save model and load pretrained model\n",
    "----"
   ]
  },
  {
   "cell_type": "markdown",
   "metadata": {},
   "source": [
    "save .json and model"
   ]
  },
  {
   "cell_type": "code",
   "execution_count": 10,
   "metadata": {},
   "outputs": [
    {
     "name": "stderr",
     "output_type": "stream",
     "text": [
      "INFO:root:Saved checkpoint to \"test_net-0001.params\"\n"
     ]
    }
   ],
   "source": [
    "model.save_checkpoint('test_net', epoch=1)"
   ]
  },
  {
   "cell_type": "markdown",
   "metadata": {},
   "source": [
    "load pretrained model"
   ]
  },
  {
   "cell_type": "code",
   "execution_count": 20,
   "metadata": {},
   "outputs": [],
   "source": [
    "sym, args, auxs = mx.model.load_checkpoint('test_net', epoch=1)\n",
    "\n",
    "mod = mx.mod.Module(symbol=sym, context=ctx)\n",
    "\n",
    "mod.bind(data_shapes=train_iter.provide_data)\n",
    "\n",
    "mod.set_params(arg_params=args, aux_params=auxs)"
   ]
  },
  {
   "cell_type": "code",
   "execution_count": 24,
   "metadata": {},
   "outputs": [
    {
     "data": {
      "text/plain": [
       "\n",
       "[[0.25       0.25000003 0.24999994 0.25      ]]\n",
       "<NDArray 1x4 @cpu(0)>"
      ]
     },
     "execution_count": 24,
     "metadata": {},
     "output_type": "execute_result"
    }
   ],
   "source": [
    "mod.predict(test_iter)"
   ]
  },
  {
   "cell_type": "code",
   "execution_count": 31,
   "metadata": {},
   "outputs": [],
   "source": [
    "args['conv1_weight'] = nd.random.normal(shape=(2,3,3,3))"
   ]
  },
  {
   "cell_type": "code",
   "execution_count": 44,
   "metadata": {},
   "outputs": [],
   "source": [
    "mod = mx.mod.Module(symbol=sym, context=ctx)\n",
    "mod.bind(data_shapes=[('data', (1,3,20,20))])\n",
    "mod.set_params(arg_params=args, aux_params=auxs)"
   ]
  },
  {
   "cell_type": "code",
   "execution_count": 45,
   "metadata": {},
   "outputs": [
    {
     "data": {
      "text/plain": [
       "\n",
       "[[0.24999522 0.24998976 0.25000802 0.250007  ]]\n",
       "<NDArray 1x4 @cpu(0)>"
      ]
     },
     "execution_count": 45,
     "metadata": {},
     "output_type": "execute_result"
    }
   ],
   "source": [
    "mod.predict(mx.io.NDArrayIter(nd.random.normal(shape=(1,3,20,20))))"
   ]
  },
  {
   "cell_type": "markdown",
   "metadata": {},
   "source": [
    "#### Q: \n",
    "1. the difference between train model and depoly model? \n",
    "2. how to change the batch_size of saved model?\n",
    "\n",
    "#### A:\n",
    "1. deploy model remove all loss layeres and attach a layer for merging results and non-maximum supression against train model."
   ]
  },
  {
   "cell_type": "markdown",
   "metadata": {},
   "source": [
    "##### >_< fuck, success finally, and the low version of pip make me feel headaches"
   ]
  },
  {
   "cell_type": "markdown",
   "metadata": {},
   "source": [
    "##### load mobilenet_ssd deploy model\n",
    "\n",
    "```python\n",
    "sym, args, auxs = mx.model.load_checkpoint('ssd_mobilenet_512', epoch=0)\n",
    "\n",
    "mod = mx.mod.Module(sym, label_names=None,context=ctx)\n",
    "\n",
    "mod.bind(data_shapes=[('data',(1,3,512,512))])\n",
    "\n",
    "mod.set_params(args, auxs)\n",
    "\n",
    "mod.predict(test_iter)```"
   ]
  }
 ],
 "metadata": {
  "kernelspec": {
   "display_name": "Python 2",
   "language": "python",
   "name": "python2"
  },
  "language_info": {
   "codemirror_mode": {
    "name": "ipython",
    "version": 2.0
   },
   "file_extension": ".py",
   "mimetype": "text/x-python",
   "name": "python",
   "nbconvert_exporter": "python",
   "pygments_lexer": "ipython2",
   "version": "2.7.10"
  }
 },
 "nbformat": 4,
 "nbformat_minor": 0
}