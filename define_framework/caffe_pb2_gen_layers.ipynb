{
 "cells": [
  {
   "cell_type": "code",
   "execution_count": 26,
   "metadata": {},
   "outputs": [
    {
     "name": "stdout",
     "output_type": "stream",
     "text": [
      "Populating the interactive namespace from numpy and matplotlib\n"
     ]
    }
   ],
   "source": [
    "%pylab inline"
   ]
  },
  {
   "cell_type": "code",
   "execution_count": 124,
   "metadata": {},
   "outputs": [],
   "source": [
    "import sys\n",
    "import caffe\n",
    "import numpy as np\n",
    "from caffe import layers as L\n",
    "from caffe import params as P\n",
    "from caffe import to_proto\n",
    "import google.protobuf as pb\n",
    "from caffe.proto import caffe_pb2"
   ]
  },
  {
   "cell_type": "markdown",
   "metadata": {},
   "source": [
    "#### Data layer"
   ]
  },
  {
   "cell_type": "code",
   "execution_count": 50,
   "metadata": {},
   "outputs": [],
   "source": [
    "def data_layer(name, params=None):\n",
    "\n",
    "    layer = caffe_pb2.LayerParameter()\n",
    "\n",
    "    layer.name = 'data'\n",
    "\n",
    "    layer.type = 'Data'\n",
    "\n",
    "    layer.top.extend(['data'])\n",
    "\n",
    "    layer.data_param.batch_size = 1\n",
    "\n",
    "    #layer.data_param.crop_size = 3"
   ]
  },
  {
   "cell_type": "markdown",
   "metadata": {},
   "source": [
    "#### BN layer"
   ]
  },
  {
   "cell_type": "code",
   "execution_count": 70,
   "metadata": {},
   "outputs": [],
   "source": [
    "def gen_bn_layer(name, bottom, top):\n",
    "\n",
    "    bn_layer = caffe_pb2.LayerParameter()\n",
    "\n",
    "    bn_layer.name = name + '_bn'\n",
    "\n",
    "    bn_layer.type = 'BatchNorm'\n",
    "\n",
    "    bn_layer.bottom.extend([bottom])\n",
    "\n",
    "    bn_layer.top.extend([top])\n",
    "\n",
    "    bn_layer.batch_norm_param.eps = 1e-5\n",
    "\n",
    "    bn_layer.batch_norm_param.use_global_stats = True\n",
    "    \n",
    "    return bn_layer"
   ]
  },
  {
   "cell_type": "markdown",
   "metadata": {},
   "source": [
    "#### Scale layer"
   ]
  },
  {
   "cell_type": "code",
   "execution_count": 81,
   "metadata": {},
   "outputs": [],
   "source": [
    "def gen_scale_layer(name, bottom, top):\n",
    "\n",
    "    scale_layer = caffe_pb2.LayerParameter()\n",
    "\n",
    "    scale_layer.name = name + '_scale'\n",
    "\n",
    "    scale_layer.type = 'Scale'\n",
    "\n",
    "    scale_layer.bottom.extend([bottom])\n",
    "\n",
    "    scale_layer.top.extend([top])\n",
    "\n",
    "    scale_layer.scale_param.filler.value = 1\n",
    "\n",
    "    scale_layer.scale_param.bias_term = True\n",
    "\n",
    "    scale_layer.scale_param.bias_filler.value = 0\n",
    "    \n",
    "    return scale_layer"
   ]
  },
  {
   "cell_type": "markdown",
   "metadata": {},
   "source": [
    "#### Generate layers"
   ]
  },
  {
   "cell_type": "code",
   "execution_count": 85,
   "metadata": {},
   "outputs": [],
   "source": [
    "bn_layer = gen_bn_layer(name='data', bottom='data', top='out')\n",
    "scale_layer = gen_scale_layer(name='data', bottom='out', top='out')"
   ]
  },
  {
   "cell_type": "code",
   "execution_count": 86,
   "metadata": {},
   "outputs": [],
   "source": [
    "layers = []\n",
    "layers.append(bn_layer)\n",
    "layers.append(scale_layer)"
   ]
  },
  {
   "cell_type": "markdown",
   "metadata": {},
   "source": [
    "#### Define model"
   ]
  },
  {
   "cell_type": "code",
   "execution_count": 88,
   "metadata": {},
   "outputs": [],
   "source": [
    "model = caffe_pb2.NetParameter()\n",
    "\n",
    "model.name = 'test_bn_net'\n",
    "\n",
    "model.layer.extend(layers)\n",
    "\n",
    "model.input.append('data')\n",
    "\n",
    "model.input_dim.append(1)\n",
    "\n",
    "model.input_dim.append(1)\n",
    "\n",
    "model.input_dim.append(3)\n",
    "\n",
    "model.input_dim.append(3)"
   ]
  },
  {
   "cell_type": "markdown",
   "metadata": {},
   "source": [
    "#### Save model to prototxt"
   ]
  },
  {
   "cell_type": "code",
   "execution_count": 92,
   "metadata": {},
   "outputs": [],
   "source": [
    "with open('deploy_test_bn_net.prototxt', 'w') as f:\n",
    "    f.write(pb.text_format.MessageToString(model))"
   ]
  },
  {
   "cell_type": "markdown",
   "metadata": {},
   "source": [
    "#### Load model and bind data"
   ]
  },
  {
   "cell_type": "code",
   "execution_count": 120,
   "metadata": {},
   "outputs": [],
   "source": [
    "net = caffe.Net('deploy_test_bn_net.prototxt', caffe.TEST)\n",
    "net.blobs['data'].data[...] = np.ones(shape=(1,1,3,3))"
   ]
  },
  {
   "cell_type": "code",
   "execution_count": 121,
   "metadata": {},
   "outputs": [],
   "source": [
    "net.params['data_bn'][0].data[...] = np.array([0])\n",
    "net.params['data_bn'][1].data[...] = np.array([1])\n",
    "net.params['data_bn'][2].data[...] = np.array([1])\n",
    "net.params['data_scale'][0].data[...] = np.array([2])\n",
    "net.params['data_scale'][1].data[...] = np.array([1])"
   ]
  },
  {
   "cell_type": "code",
   "execution_count": 122,
   "metadata": {},
   "outputs": [
    {
     "name": "stdout",
     "output_type": "stream",
     "text": [
      "mean: [0.]\n",
      "var: [1.]\n",
      "scale: [1.]\n",
      "gamma: [2.]\n",
      "beta: [1.]\n"
     ]
    }
   ],
   "source": [
    "print 'mean:',net.params['data_bn'][0].data\n",
    "print 'var:', net.params['data_bn'][1].data\n",
    "print 'scale:',net.params['data_bn'][2].data\n",
    "print 'gamma:',net.params['data_scale'][0].data\n",
    "print 'beta:',net.params['data_scale'][1].data"
   ]
  },
  {
   "cell_type": "code",
   "execution_count": 123,
   "metadata": {},
   "outputs": [
    {
     "data": {
      "text/plain": [
       "{'out': array([[[[2.99999, 2.99999, 2.99999],\n",
       "          [2.99999, 2.99999, 2.99999],\n",
       "          [2.99999, 2.99999, 2.99999]]]], dtype=float32)}"
      ]
     },
     "execution_count": 123,
     "metadata": {},
     "output_type": "execute_result"
    }
   ],
   "source": [
    "net.forward()"
   ]
  },
  {
   "cell_type": "code",
   "execution_count": null,
   "metadata": {},
   "outputs": [],
   "source": []
  }
 ],
 "metadata": {
  "kernelspec": {
   "display_name": "Python 2",
   "language": "python",
   "name": "python2"
  },
  "language_info": {
   "codemirror_mode": {
    "name": "ipython",
    "version": 2
   },
   "file_extension": ".py",
   "mimetype": "text/x-python",
   "name": "python",
   "nbconvert_exporter": "python",
   "pygments_lexer": "ipython2",
   "version": "2.7.12"
  },
  "toc": {
   "nav_menu": {},
   "number_sections": true,
   "sideBar": true,
   "skip_h1_title": false,
   "toc_cell": false,
   "toc_position": {},
   "toc_section_display": "block",
   "toc_window_display": false
  },
  "varInspector": {
   "cols": {
    "lenName": 16,
    "lenType": 16,
    "lenVar": 40
   },
   "kernels_config": {
    "python": {
     "delete_cmd_postfix": "",
     "delete_cmd_prefix": "del ",
     "library": "var_list.py",
     "varRefreshCmd": "print(var_dic_list())"
    },
    "r": {
     "delete_cmd_postfix": ") ",
     "delete_cmd_prefix": "rm(",
     "library": "var_list.r",
     "varRefreshCmd": "cat(var_dic_list()) "
    }
   },
   "types_to_exclude": [
    "module",
    "function",
    "builtin_function_or_method",
    "instance",
    "_Feature"
   ],
   "window_display": false
  }
 },
 "nbformat": 4,
 "nbformat_minor": 2
}
