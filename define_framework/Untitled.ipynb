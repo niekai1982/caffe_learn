{
 "cells": [
  {
   "cell_type": "markdown",
   "metadata": {},
   "source": [
    "### caffe gen a conv layer"
   ]
  },
  {
   "cell_type": "code",
   "execution_count": 102,
   "metadata": {
    "ExecuteTime": {
     "end_time": "2018-06-05T11:31:28.413602Z",
     "start_time": "2018-06-05T11:31:28.409435Z"
    }
   },
   "outputs": [],
   "source": [
    "import sys"
   ]
  },
  {
   "cell_type": "code",
   "execution_count": 103,
   "metadata": {
    "ExecuteTime": {
     "end_time": "2018-06-05T11:31:28.625351Z",
     "start_time": "2018-06-05T11:31:28.622627Z"
    }
   },
   "outputs": [],
   "source": [
    "sys.path.insert(0, '/home/niekai/caffe/python/')"
   ]
  },
  {
   "cell_type": "code",
   "execution_count": 104,
   "metadata": {
    "ExecuteTime": {
     "end_time": "2018-06-05T11:31:29.092770Z",
     "start_time": "2018-06-05T11:31:29.087925Z"
    }
   },
   "outputs": [],
   "source": [
    "import numpy as np\n",
    "\n",
    "import caffe\n",
    "\n",
    "import torch\n",
    "\n",
    "import mxnet as mx"
   ]
  },
  {
   "cell_type": "code",
   "execution_count": 105,
   "metadata": {
    "ExecuteTime": {
     "end_time": "2018-06-05T11:31:29.481227Z",
     "start_time": "2018-06-05T11:31:29.476356Z"
    }
   },
   "outputs": [],
   "source": [
    "from caffe.proto import caffe_pb2\n",
    "\n",
    "import google.protobuf as pb\n",
    "\n",
    "from caffe import to_proto\n",
    "\n",
    "from caffe import params as P\n",
    "\n",
    "from caffe import layers as L"
   ]
  },
  {
   "cell_type": "code",
   "execution_count": 106,
   "metadata": {
    "ExecuteTime": {
     "end_time": "2018-06-05T11:31:29.997608Z",
     "start_time": "2018-06-05T11:31:29.993435Z"
    }
   },
   "outputs": [],
   "source": [
    "from google.protobuf import text_format"
   ]
  },
  {
   "cell_type": "markdown",
   "metadata": {},
   "source": [
    "#### Define gen conv layer"
   ]
  },
  {
   "cell_type": "code",
   "execution_count": 107,
   "metadata": {
    "ExecuteTime": {
     "end_time": "2018-06-05T11:31:30.460500Z",
     "start_time": "2018-06-05T11:31:30.453357Z"
    }
   },
   "outputs": [],
   "source": [
    "def _get_param(num_param):\n",
    "    if num_param==1:\n",
    "        #only_weight\n",
    "        param = caffe_pb2.ParamSpec()\n",
    "        param.lr_mult = 1\n",
    "        param.decay_mult = 1\n",
    "        return [param]\n",
    "    if num_param==2:\n",
    "        #weight and bias\n",
    "        param_w = caffe_pb2.ParamSpec()\n",
    "        param_w.lr_mult = 1\n",
    "        param_w.decay_mult = 1\n",
    "        param_b = caffe_pb2.ParamSpec()\n",
    "        param_b.lr_mult = 2\n",
    "        param_b.decay_mult = 0\n",
    "        return [param_w, param_b]\n",
    "    else:\n",
    "        raise ValueError(\"Unknown num_param {}\".format(num_param))"
   ]
  },
  {
   "cell_type": "code",
   "execution_count": 108,
   "metadata": {
    "ExecuteTime": {
     "end_time": "2018-06-05T11:31:30.869661Z",
     "start_time": "2018-06-05T11:31:30.860990Z"
    }
   },
   "outputs": [],
   "source": [
    "def gen_conv_layer(name, bottom, top, num_output, kernel_size, stride, pad):\n",
    "    conv_layer = caffe_pb2.LayerParameter()\n",
    "    conv_layer.name = name\n",
    "    conv_layer.type = 'Convolution'\n",
    "    conv_layer.bottom.extend([bottom])\n",
    "    conv_layer.top.extend([top])\n",
    "    conv_layer.convolution_param.num_output = num_output\n",
    "    conv_layer.convolution_param.kernel_size.extend([kernel_size])\n",
    "    conv_layer.convolution_param.stride.extend([stride])\n",
    "    conv_layer.convolution_param.pad.extend([pad])\n",
    "    conv_layer.convolution_param.weight_filler.type='msra'\n",
    "    conv_layer.convolution_param.bias_term=False\n",
    "    conv_layer.param.extend(_get_param(1))\n",
    "    return conv_layer"
   ]
  },
  {
   "cell_type": "markdown",
   "metadata": {},
   "source": [
    "#### Generate conv layer\n",
    "\n",
    "- num_output = 16"
   ]
  },
  {
   "cell_type": "code",
   "execution_count": 155,
   "metadata": {
    "ExecuteTime": {
     "end_time": "2018-06-05T11:40:11.388140Z",
     "start_time": "2018-06-05T11:40:11.385171Z"
    }
   },
   "outputs": [],
   "source": [
    "conv_layer = gen_conv_layer(name='conv0', bottom='data', top='conv0',\n",
    "                           num_output=16, kernel_size=3, stride=1, pad=1)"
   ]
  },
  {
   "cell_type": "code",
   "execution_count": 156,
   "metadata": {
    "ExecuteTime": {
     "end_time": "2018-06-05T11:40:11.827277Z",
     "start_time": "2018-06-05T11:40:11.823619Z"
    }
   },
   "outputs": [],
   "source": [
    "layers = []\n",
    "layers.append(conv_layer)"
   ]
  },
  {
   "cell_type": "markdown",
   "metadata": {},
   "source": [
    "#### Define model"
   ]
  },
  {
   "cell_type": "code",
   "execution_count": 157,
   "metadata": {
    "ExecuteTime": {
     "end_time": "2018-06-05T11:40:12.703326Z",
     "start_time": "2018-06-05T11:40:12.699806Z"
    }
   },
   "outputs": [],
   "source": [
    "model = caffe_pb2.NetParameter()"
   ]
  },
  {
   "cell_type": "code",
   "execution_count": 158,
   "metadata": {
    "ExecuteTime": {
     "end_time": "2018-06-05T11:40:15.242392Z",
     "start_time": "2018-06-05T11:40:15.238366Z"
    }
   },
   "outputs": [],
   "source": [
    "model.name = 'test_conv_net'\n",
    "model.layer.extend(layers)\n",
    "model.input.append('data')\n",
    "model.input_dim.append(1)\n",
    "model.input_dim.append(3)\n",
    "model.input_dim.append(10)\n",
    "model.input_dim.append(10)"
   ]
  },
  {
   "cell_type": "markdown",
   "metadata": {},
   "source": [
    "#### Save model to prototxt"
   ]
  },
  {
   "cell_type": "code",
   "execution_count": 159,
   "metadata": {
    "ExecuteTime": {
     "end_time": "2018-06-05T11:40:15.683830Z",
     "start_time": "2018-06-05T11:40:15.680953Z"
    }
   },
   "outputs": [],
   "source": [
    "with open('deploy_test_conv_net.prototxt', 'w') as f:\n",
    "    f.write(text_format.MessageToString(model))"
   ]
  },
  {
   "cell_type": "markdown",
   "metadata": {},
   "source": [
    "#### load prototxt and fill val of param"
   ]
  },
  {
   "cell_type": "code",
   "execution_count": 160,
   "metadata": {
    "ExecuteTime": {
     "end_time": "2018-06-05T11:40:15.972496Z",
     "start_time": "2018-06-05T11:40:15.967416Z"
    }
   },
   "outputs": [],
   "source": [
    "net = caffe.Net('deploy_test_conv_net.prototxt', caffe.TEST)"
   ]
  },
  {
   "cell_type": "code",
   "execution_count": 161,
   "metadata": {
    "ExecuteTime": {
     "end_time": "2018-06-05T11:40:16.153593Z",
     "start_time": "2018-06-05T11:40:16.150759Z"
    }
   },
   "outputs": [],
   "source": [
    "net.blobs['data'].data[...] = np.ones(shape=(1,3,10,10))"
   ]
  },
  {
   "cell_type": "code",
   "execution_count": 162,
   "metadata": {
    "ExecuteTime": {
     "end_time": "2018-06-05T11:40:16.304981Z",
     "start_time": "2018-06-05T11:40:16.302632Z"
    }
   },
   "outputs": [],
   "source": [
    "out = net.forward()"
   ]
  },
  {
   "cell_type": "code",
   "execution_count": 163,
   "metadata": {
    "ExecuteTime": {
     "end_time": "2018-06-05T11:40:16.714447Z",
     "start_time": "2018-06-05T11:40:16.710855Z"
    }
   },
   "outputs": [
    {
     "data": {
      "text/plain": [
       "(1, 16, 10, 10)"
      ]
     },
     "execution_count": 163,
     "metadata": {},
     "output_type": "execute_result"
    }
   ],
   "source": [
    "out['conv0'].shape"
   ]
  },
  {
   "cell_type": "code",
   "execution_count": 164,
   "metadata": {
    "ExecuteTime": {
     "end_time": "2018-06-05T11:40:17.406668Z",
     "start_time": "2018-06-05T11:40:17.400498Z"
    }
   },
   "outputs": [],
   "source": [
    "net.save('deploy_test_conv_net.caffemodel')"
   ]
  },
  {
   "cell_type": "markdown",
   "metadata": {},
   "source": [
    "#### load prototxt and caffemodel"
   ]
  },
  {
   "cell_type": "code",
   "execution_count": 176,
   "metadata": {
    "ExecuteTime": {
     "end_time": "2018-06-06T01:19:46.814713Z",
     "start_time": "2018-06-06T01:19:46.808267Z"
    }
   },
   "outputs": [],
   "source": [
    "net = caffe.Net('deploy_test_conv_net.prototxt', 'deploy_test_conv_net.caffemodel',\n",
    "               caffe.TEST)"
   ]
  },
  {
   "cell_type": "code",
   "execution_count": 177,
   "metadata": {
    "ExecuteTime": {
     "end_time": "2018-06-06T01:19:47.259433Z",
     "start_time": "2018-06-06T01:19:47.254874Z"
    }
   },
   "outputs": [],
   "source": [
    "net.blobs['data'].data[...] = np.ones(shape=(1,3,10,10))"
   ]
  },
  {
   "cell_type": "code",
   "execution_count": 178,
   "metadata": {
    "ExecuteTime": {
     "end_time": "2018-06-06T01:19:48.937595Z",
     "start_time": "2018-06-06T01:19:48.935173Z"
    }
   },
   "outputs": [],
   "source": [
    "out = net.forward()"
   ]
  },
  {
   "cell_type": "code",
   "execution_count": 179,
   "metadata": {
    "ExecuteTime": {
     "end_time": "2018-06-06T01:19:49.721446Z",
     "start_time": "2018-06-06T01:19:49.718026Z"
    }
   },
   "outputs": [
    {
     "data": {
      "text/plain": [
       "(1, 16, 10, 10)"
      ]
     },
     "execution_count": 179,
     "metadata": {},
     "output_type": "execute_result"
    }
   ],
   "source": [
    "out['conv0'].shape"
   ]
  },
  {
   "cell_type": "code",
   "execution_count": 180,
   "metadata": {
    "ExecuteTime": {
     "end_time": "2018-06-06T01:19:51.015779Z",
     "start_time": "2018-06-06T01:19:51.008184Z"
    }
   },
   "outputs": [
    {
     "data": {
      "text/plain": [
       "array([[[[-4.0441281e-01, -3.2275343e-01, -3.2275343e-01, ...,\n",
       "          -3.2275343e-01, -3.2275343e-01, -9.0664327e-01],\n",
       "         [-4.6315241e-01, -4.7584307e-01, -4.7584307e-01, ...,\n",
       "          -4.7584307e-01, -4.7584307e-01, -5.0296056e-01],\n",
       "         [-4.6315241e-01, -4.7584307e-01, -4.7584307e-01, ...,\n",
       "          -4.7584307e-01, -4.7584307e-01, -5.0296056e-01],\n",
       "         ...,\n",
       "         [-4.6315241e-01, -4.7584307e-01, -4.7584307e-01, ...,\n",
       "          -4.7584307e-01, -4.7584307e-01, -5.0296056e-01],\n",
       "         [-4.6315241e-01, -4.7584307e-01, -4.7584307e-01, ...,\n",
       "          -4.7584307e-01, -4.7584307e-01, -5.0296056e-01],\n",
       "         [ 2.7718768e-02, -3.0732444e-01, -3.0732444e-01, ...,\n",
       "          -3.0732444e-01, -3.0732444e-01, -2.5161436e-01]],\n",
       "\n",
       "        [[-9.4936836e-01, -1.7612537e+00, -1.7612537e+00, ...,\n",
       "          -1.7612537e+00, -1.7612537e+00, -7.6124907e-01],\n",
       "         [-7.5664794e-01, -1.3808473e+00, -1.3808473e+00, ...,\n",
       "          -1.3808473e+00, -1.3808473e+00, -5.5388826e-01],\n",
       "         [-7.5664794e-01, -1.3808473e+00, -1.3808473e+00, ...,\n",
       "          -1.3808473e+00, -1.3808473e+00, -5.5388826e-01],\n",
       "         ...,\n",
       "         [-7.5664794e-01, -1.3808473e+00, -1.3808473e+00, ...,\n",
       "          -1.3808473e+00, -1.3808473e+00, -5.5388826e-01],\n",
       "         [-7.5664794e-01, -1.3808473e+00, -1.3808473e+00, ...,\n",
       "          -1.3808473e+00, -1.3808473e+00, -5.5388826e-01],\n",
       "         [ 4.1991356e-01,  6.3510764e-01,  6.3510764e-01, ...,\n",
       "           6.3510764e-01,  6.3510764e-01,  1.8490082e-01]],\n",
       "\n",
       "        [[-2.3398133e-01, -6.8099844e-01, -6.8099844e-01, ...,\n",
       "          -6.8099844e-01, -6.8099844e-01,  9.5508039e-02],\n",
       "         [-7.2676525e-02,  7.0004165e-04,  7.0004165e-04, ...,\n",
       "           7.0004165e-04,  7.0004165e-04, -1.3192761e-01],\n",
       "         [-7.2676525e-02,  7.0004165e-04,  7.0004165e-04, ...,\n",
       "           7.0004165e-04,  7.0004165e-04, -1.3192761e-01],\n",
       "         ...,\n",
       "         [-7.2676525e-02,  7.0004165e-04,  7.0004165e-04, ...,\n",
       "           7.0004165e-04,  7.0004165e-04, -1.3192761e-01],\n",
       "         [-7.2676525e-02,  7.0004165e-04,  7.0004165e-04, ...,\n",
       "           7.0004165e-04,  7.0004165e-04, -1.3192761e-01],\n",
       "         [ 7.6885653e-01,  5.5735624e-01,  5.5735624e-01, ...,\n",
       "           5.5735624e-01,  5.5735624e-01,  2.3010015e-02]],\n",
       "\n",
       "        ...,\n",
       "\n",
       "        [[-7.0521504e-01, -2.0430441e+00, -2.0430441e+00, ...,\n",
       "          -2.0430441e+00, -2.0430441e+00, -1.6643202e+00],\n",
       "         [ 3.3937097e-01, -7.2222576e-02, -7.2222576e-02, ...,\n",
       "          -7.2222576e-02, -7.2222576e-02, -6.5008134e-01],\n",
       "         [ 3.3937097e-01, -7.2222576e-02, -7.2222576e-02, ...,\n",
       "          -7.2222576e-02, -7.2222576e-02, -6.5008134e-01],\n",
       "         ...,\n",
       "         [ 3.3937097e-01, -7.2222576e-02, -7.2222576e-02, ...,\n",
       "          -7.2222576e-02, -7.2222576e-02, -6.5008134e-01],\n",
       "         [ 3.3937097e-01, -7.2222576e-02, -7.2222576e-02, ...,\n",
       "          -7.2222576e-02, -7.2222576e-02, -6.5008134e-01],\n",
       "         [ 3.8696665e-01,  5.3946668e-01,  5.3946668e-01, ...,\n",
       "           5.3946668e-01,  5.3946668e-01,  1.6104811e-01]],\n",
       "\n",
       "        [[ 6.0635448e-02, -1.2386439e+00, -1.2386439e+00, ...,\n",
       "          -1.2386439e+00, -1.2386439e+00, -1.3870547e+00],\n",
       "         [ 6.6191673e-01, -3.4959987e-01, -3.4959987e-01, ...,\n",
       "          -3.4959987e-01, -3.4959987e-01, -1.2178344e+00],\n",
       "         [ 6.6191673e-01, -3.4959987e-01, -3.4959987e-01, ...,\n",
       "          -3.4959987e-01, -3.4959987e-01, -1.2178344e+00],\n",
       "         ...,\n",
       "         [ 6.6191673e-01, -3.4959987e-01, -3.4959987e-01, ...,\n",
       "          -3.4959987e-01, -3.4959987e-01, -1.2178344e+00],\n",
       "         [ 6.6191673e-01, -3.4959987e-01, -3.4959987e-01, ...,\n",
       "          -3.4959987e-01, -3.4959987e-01, -1.2178344e+00],\n",
       "         [ 1.1067252e+00,  5.7761657e-01,  5.7761657e-01, ...,\n",
       "           5.7761657e-01,  5.7761657e-01, -9.6792638e-02]],\n",
       "\n",
       "        [[ 6.6206282e-01,  6.3821054e-01,  6.3821054e-01, ...,\n",
       "           6.3821054e-01,  6.3821054e-01,  2.2102706e-01],\n",
       "         [ 1.1929724e+00,  1.1544664e+00,  1.1544664e+00, ...,\n",
       "           1.1544664e+00,  1.1544664e+00,  6.6527468e-01],\n",
       "         [ 1.1929724e+00,  1.1544664e+00,  1.1544664e+00, ...,\n",
       "           1.1544664e+00,  1.1544664e+00,  6.6527468e-01],\n",
       "         ...,\n",
       "         [ 1.1929724e+00,  1.1544664e+00,  1.1544664e+00, ...,\n",
       "           1.1544664e+00,  1.1544664e+00,  6.6527468e-01],\n",
       "         [ 1.1929724e+00,  1.1544664e+00,  1.1544664e+00, ...,\n",
       "           1.1544664e+00,  1.1544664e+00,  6.6527468e-01],\n",
       "         [ 8.2097423e-01,  8.0158955e-01,  8.0158955e-01, ...,\n",
       "           8.0158955e-01,  8.0158955e-01,  7.4418426e-01]]]],\n",
       "      dtype=float32)"
      ]
     },
     "execution_count": 180,
     "metadata": {},
     "output_type": "execute_result"
    }
   ],
   "source": [
    "out['conv0']"
   ]
  },
  {
   "cell_type": "code",
   "execution_count": null,
   "metadata": {},
   "outputs": [],
   "source": []
  }
 ],
 "metadata": {
  "kernelspec": {
   "display_name": "Python 2",
   "language": "python",
   "name": "python2"
  },
  "language_info": {
   "codemirror_mode": {
    "name": "ipython",
    "version": 2
   },
   "file_extension": ".py",
   "mimetype": "text/x-python",
   "name": "python",
   "nbconvert_exporter": "python",
   "pygments_lexer": "ipython2",
   "version": "2.7.12"
  },
  "toc": {
   "nav_menu": {},
   "number_sections": true,
   "sideBar": true,
   "skip_h1_title": false,
   "toc_cell": false,
   "toc_position": {},
   "toc_section_display": "block",
   "toc_window_display": false
  },
  "varInspector": {
   "cols": {
    "lenName": 16,
    "lenType": 16,
    "lenVar": 40
   },
   "kernels_config": {
    "python": {
     "delete_cmd_postfix": "",
     "delete_cmd_prefix": "del ",
     "library": "var_list.py",
     "varRefreshCmd": "print(var_dic_list())"
    },
    "r": {
     "delete_cmd_postfix": ") ",
     "delete_cmd_prefix": "rm(",
     "library": "var_list.r",
     "varRefreshCmd": "cat(var_dic_list()) "
    }
   },
   "types_to_exclude": [
    "module",
    "function",
    "builtin_function_or_method",
    "instance",
    "_Feature"
   ],
   "window_display": false
  }
 },
 "nbformat": 4,
 "nbformat_minor": 2
}
