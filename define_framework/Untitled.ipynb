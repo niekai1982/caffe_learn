{
 "cells": [
  {
   "cell_type": "code",
   "execution_count": 48,
   "metadata": {},
   "outputs": [],
   "source": [
    "import mxnet as mx"
   ]
  },
  {
   "cell_type": "code",
   "execution_count": 49,
   "metadata": {},
   "outputs": [],
   "source": [
    "from mxnet import ndarray as nd"
   ]
  },
  {
   "cell_type": "code",
   "execution_count": 50,
   "metadata": {},
   "outputs": [],
   "source": [
    "from collections import namedtuple"
   ]
  },
  {
   "cell_type": "code",
   "execution_count": 51,
   "metadata": {},
   "outputs": [],
   "source": [
    "import numpy as np"
   ]
  },
  {
   "cell_type": "code",
   "execution_count": 115,
   "metadata": {},
   "outputs": [],
   "source": [
    "import caffe"
   ]
  },
  {
   "cell_type": "code",
   "execution_count": 118,
   "metadata": {},
   "outputs": [],
   "source": [
    "from caffe import layers, params"
   ]
  },
  {
   "cell_type": "code",
   "execution_count": 52,
   "metadata": {},
   "outputs": [],
   "source": [
    "data = nd.random.uniform(shape=(1,3,20,20))"
   ]
  },
  {
   "cell_type": "code",
   "execution_count": 53,
   "metadata": {},
   "outputs": [],
   "source": [
    "Batch = namedtuple('Batch', ['data'])"
   ]
  },
  {
   "cell_type": "code",
   "execution_count": 54,
   "metadata": {},
   "outputs": [],
   "source": [
    "ctx = mx.cpu()"
   ]
  },
  {
   "cell_type": "code",
   "execution_count": 55,
   "metadata": {},
   "outputs": [],
   "source": [
    "sym, arg, aux = mx.model.load_checkpoint('test_net', epoch=1)"
   ]
  },
  {
   "cell_type": "markdown",
   "metadata": {},
   "source": [
    "获得所有中间输出"
   ]
  },
  {
   "cell_type": "code",
   "execution_count": 69,
   "metadata": {},
   "outputs": [],
   "source": [
    "args = sym.get_internals().list_outputs()"
   ]
  },
  {
   "cell_type": "code",
   "execution_count": 96,
   "metadata": {},
   "outputs": [],
   "source": [
    "internals = sym.get_internals()"
   ]
  },
  {
   "cell_type": "code",
   "execution_count": 100,
   "metadata": {},
   "outputs": [],
   "source": [
    "conv1 = internals[2]"
   ]
  },
  {
   "cell_type": "code",
   "execution_count": 102,
   "metadata": {},
   "outputs": [],
   "source": [
    "group = mx.symbol.Group([conv1, sym])"
   ]
  },
  {
   "cell_type": "code",
   "execution_count": 104,
   "metadata": {},
   "outputs": [],
   "source": [
    "mod = mx.mod.Module(symbol=group, context=ctx)\n",
    "\n",
    "mod.bind(for_training=False, data_shapes=[('data', (1,3,20,20))])\n",
    "\n",
    "mod.set_params(arg_params=arg, aux_params=aux) \n",
    "\n",
    "mod.forward(Batch([data]))\n",
    "\n",
    "prob = mod.get_outputs()"
   ]
  },
  {
   "cell_type": "code",
   "execution_count": 158,
   "metadata": {},
   "outputs": [
    {
     "name": "stdout",
     "output_type": "stream",
     "text": [
      "list idx: 0\n",
      "<Symbol data>\n",
      "list idx: 1\n",
      "<Symbol conv1_weight>\n",
      "list idx: 2\n",
      "<Symbol conv1>\n",
      "list idx: 3\n",
      "<Symbol conv1_batchnorm_gamma>\n",
      "list idx: 4\n",
      "<Symbol conv1_batchnorm_beta>\n",
      "list idx: 5\n",
      "<Symbol conv1_batchnorm_moving_mean>\n",
      "list idx: 6\n",
      "<Symbol conv1_batchnorm_moving_var>\n",
      "list idx: 7\n",
      "<Symbol conv1_batchnorm>\n",
      "list idx: 8\n",
      "<Symbol conv1_relu>\n",
      "list idx: 9\n",
      "<Symbol conv2_dw_weight>\n",
      "list idx: 10\n",
      "<Symbol conv2_dw>\n",
      "list idx: 11\n",
      "<Symbol conv2_dw_batchnorm_gamma>\n",
      "list idx: 12\n",
      "<Symbol conv2_dw_batchnorm_beta>\n",
      "list idx: 13\n",
      "<Symbol conv2_dw_batchnorm_moving_mean>\n",
      "list idx: 14\n",
      "<Symbol conv2_dw_batchnorm_moving_var>\n",
      "list idx: 15\n",
      "<Symbol conv2_dw_batchnorm>\n",
      "list idx: 16\n",
      "<Symbol conv2_weight>\n",
      "list idx: 17\n",
      "<Symbol conv2>\n",
      "list idx: 18\n",
      "<Symbol flatten0>\n",
      "list idx: 19\n",
      "<Symbol fullyconnected0_weight>\n",
      "list idx: 20\n",
      "<Symbol fullyconnected0_bias>\n",
      "list idx: 21\n",
      "<Symbol fullyconnected0>\n",
      "list idx: 22\n",
      "<Symbol softmax_label>\n",
      "list idx: 23\n",
      "<Symbol softmax>\n"
     ]
    }
   ],
   "source": [
    "for i in range(len(internals)):\n",
    "    print \"list idx: %s\" % i\n",
    "    print internals[i]"
   ]
  },
  {
   "cell_type": "code",
   "execution_count": 160,
   "metadata": {},
   "outputs": [],
   "source": [
    "%run gen_deploy_prototxt.py"
   ]
  },
  {
   "cell_type": "code",
   "execution_count": null,
   "metadata": {},
   "outputs": [],
   "source": []
  }
 ],
 "metadata": {
  "kernelspec": {
   "display_name": "Python 2",
   "language": "python",
   "name": "python2"
  },
  "language_info": {
   "codemirror_mode": {
    "name": "ipython",
    "version": 2
   },
   "file_extension": ".py",
   "mimetype": "text/x-python",
   "name": "python",
   "nbconvert_exporter": "python",
   "pygments_lexer": "ipython2",
   "version": "2.7.10"
  }
 },
 "nbformat": 4,
 "nbformat_minor": 2
}
