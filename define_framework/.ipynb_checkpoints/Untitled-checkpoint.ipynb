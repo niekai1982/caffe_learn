{
 "cells": [
  {
   "cell_type": "markdown",
   "metadata": {},
   "source": [
    "### caffe gen a conv layer"
   ]
  },
  {
   "cell_type": "code",
   "execution_count": 1,
   "metadata": {
    "ExecuteTime": {
     "end_time": "2018-06-05T08:38:32.133706Z",
     "start_time": "2018-06-05T08:38:32.130538Z"
    }
   },
   "outputs": [],
   "source": [
    "import sys"
   ]
  },
  {
   "cell_type": "code",
   "execution_count": 2,
   "metadata": {
    "ExecuteTime": {
     "end_time": "2018-06-05T08:38:33.168216Z",
     "start_time": "2018-06-05T08:38:33.163932Z"
    }
   },
   "outputs": [],
   "source": [
    "sys.path.insert(0, '/home/niekai/caffe/python/')"
   ]
  },
  {
   "cell_type": "code",
   "execution_count": 3,
   "metadata": {
    "ExecuteTime": {
     "end_time": "2018-06-05T08:38:35.306258Z",
     "start_time": "2018-06-05T08:38:34.388961Z"
    }
   },
   "outputs": [
    {
     "name": "stderr",
     "output_type": "stream",
     "text": [
      "/usr/local/lib/python2.7/dist-packages/h5py/__init__.py:36: FutureWarning: Conversion of the second argument of issubdtype from `float` to `np.floating` is deprecated. In future, it will be treated as `np.float64 == np.dtype(float).type`.\n",
      "  from ._conv import register_converters as _register_converters\n"
     ]
    }
   ],
   "source": [
    "import numpy as np\n",
    "\n",
    "import caffe\n",
    "\n",
    "import torch\n",
    "\n",
    "import mxnet as mx"
   ]
  },
  {
   "cell_type": "code",
   "execution_count": 4,
   "metadata": {
    "ExecuteTime": {
     "end_time": "2018-06-05T08:38:36.059996Z",
     "start_time": "2018-06-05T08:38:36.053569Z"
    }
   },
   "outputs": [],
   "source": [
    "from caffe.proto import caffe_pb2\n",
    "\n",
    "import google.protobuf as pb\n",
    "\n",
    "from caffe import to_proto\n",
    "\n",
    "from caffe import params as P\n",
    "\n",
    "from caffe import layers as L"
   ]
  },
  {
   "cell_type": "code",
   "execution_count": 5,
   "metadata": {
    "ExecuteTime": {
     "end_time": "2018-06-05T08:38:36.863814Z",
     "start_time": "2018-06-05T08:38:36.857816Z"
    }
   },
   "outputs": [],
   "source": [
    "from google.protobuf import text_format"
   ]
  },
  {
   "cell_type": "markdown",
   "metadata": {},
   "source": [
    "#### Define gen conv layer"
   ]
  },
  {
   "cell_type": "code",
   "execution_count": 6,
   "metadata": {
    "ExecuteTime": {
     "end_time": "2018-06-05T08:38:38.100991Z",
     "start_time": "2018-06-05T08:38:38.091724Z"
    }
   },
   "outputs": [],
   "source": [
    "def _get_param(num_param):\n",
    "    if num_param==1:\n",
    "        #only_weight\n",
    "        param = caffe_pb2.ParamSpec()\n",
    "        param.lr_mult = 1\n",
    "        param.decay_mult = 1\n",
    "        return [param]\n",
    "    if num_param==2:\n",
    "        #weight and bias\n",
    "        param_w = caffe_pb2.ParamSpec()\n",
    "        param_w.lr_mult = 1\n",
    "        param_w.decay_mult = 1\n",
    "        param_b = caffe_pb2.ParamSpec()\n",
    "        param_b.lr_mult = 2\n",
    "        param_b.decay_mult = 0\n",
    "        return [param_w, param_b]\n",
    "    else:\n",
    "        raise ValueError(\"Unknown num_param {}\".format(num_param))"
   ]
  },
  {
   "cell_type": "code",
   "execution_count": 7,
   "metadata": {
    "ExecuteTime": {
     "end_time": "2018-06-05T08:38:41.928937Z",
     "start_time": "2018-06-05T08:38:41.920875Z"
    }
   },
   "outputs": [],
   "source": [
    "def gen_conv_layer(name, bottom, top, num_output, kernel_size, stride, pad):\n",
    "    conv_layer = caffe_pb2.LayerParameter()\n",
    "    conv_layer.name = name\n",
    "    conv_layer.type = 'Convolution'\n",
    "    conv_layer.bottom.extend([bottom])\n",
    "    conv_layer.top.extend([top])\n",
    "    conv_layer.convolution_param.num_output = num_output\n",
    "    conv_layer.convolution_param.kernel_size.extend([kernel_size])\n",
    "    conv_layer.convolution_param.stride.extend([stride])\n",
    "    conv_layer.convolution_param.pad.extend([pad])\n",
    "    conv_layer.convolution_param.weight_filler.type='msra'\n",
    "    conv_layer.convolution_param.bias_term=False\n",
    "    conv_layer.param.extend(_get_param(1))\n",
    "    return conv_layer"
   ]
  },
  {
   "cell_type": "markdown",
   "metadata": {},
   "source": [
    "#### Generate conv layer"
   ]
  },
  {
   "cell_type": "code",
   "execution_count": 10,
   "metadata": {
    "ExecuteTime": {
     "end_time": "2018-06-05T08:39:15.756030Z",
     "start_time": "2018-06-05T08:39:15.753176Z"
    }
   },
   "outputs": [],
   "source": [
    "conv_layer = gen_conv_layer(name='conv0', bottom='data', top='conv0',\n",
    "                           num_output=1, kernel_size=3, stride=1, pad=1)"
   ]
  },
  {
   "cell_type": "code",
   "execution_count": 11,
   "metadata": {
    "ExecuteTime": {
     "end_time": "2018-06-05T08:39:19.077433Z",
     "start_time": "2018-06-05T08:39:19.075062Z"
    }
   },
   "outputs": [],
   "source": [
    "layers = []\n",
    "layers.append(conv_layer)"
   ]
  },
  {
   "cell_type": "markdown",
   "metadata": {},
   "source": [
    "#### Define model"
   ]
  },
  {
   "cell_type": "code",
   "execution_count": 12,
   "metadata": {
    "ExecuteTime": {
     "end_time": "2018-06-05T08:39:28.201672Z",
     "start_time": "2018-06-05T08:39:28.199060Z"
    }
   },
   "outputs": [],
   "source": [
    "model = caffe_pb2.NetParameter()"
   ]
  },
  {
   "cell_type": "code",
   "execution_count": 13,
   "metadata": {
    "ExecuteTime": {
     "end_time": "2018-06-05T08:39:31.512805Z",
     "start_time": "2018-06-05T08:39:31.507104Z"
    }
   },
   "outputs": [],
   "source": [
    "model.name = 'test_conv_net'\n",
    "model.layer.extend(layers)\n",
    "model.input.append('data')\n",
    "model.input_dim.append(1)\n",
    "model.input_dim.append(3)\n",
    "model.input_dim.append(10)\n",
    "model.input_dim.append(10)"
   ]
  },
  {
   "cell_type": "markdown",
   "metadata": {},
   "source": [
    "#### Save model to prototxt"
   ]
  },
  {
   "cell_type": "code",
   "execution_count": 14,
   "metadata": {
    "ExecuteTime": {
     "end_time": "2018-06-05T08:39:33.065460Z",
     "start_time": "2018-06-05T08:39:33.061523Z"
    }
   },
   "outputs": [],
   "source": [
    "with open('deploy_test_conv_net.prototxt', 'w') as f:\n",
    "    f.write(text_format.MessageToString(model))"
   ]
  },
  {
   "cell_type": "code",
   "execution_count": null,
   "metadata": {},
   "outputs": [],
   "source": []
  },
  {
   "cell_type": "code",
   "execution_count": null,
   "metadata": {},
   "outputs": [],
   "source": []
  },
  {
   "cell_type": "code",
   "execution_count": null,
   "metadata": {},
   "outputs": [],
   "source": []
  },
  {
   "cell_type": "code",
   "execution_count": null,
   "metadata": {},
   "outputs": [],
   "source": []
  },
  {
   "cell_type": "code",
   "execution_count": null,
   "metadata": {},
   "outputs": [],
   "source": []
  },
  {
   "cell_type": "code",
   "execution_count": null,
   "metadata": {},
   "outputs": [],
   "source": []
  },
  {
   "cell_type": "code",
   "execution_count": null,
   "metadata": {},
   "outputs": [],
   "source": []
  },
  {
   "cell_type": "code",
   "execution_count": null,
   "metadata": {},
   "outputs": [],
   "source": []
  },
  {
   "cell_type": "code",
   "execution_count": null,
   "metadata": {},
   "outputs": [],
   "source": []
  },
  {
   "cell_type": "code",
   "execution_count": null,
   "metadata": {},
   "outputs": [],
   "source": []
  },
  {
   "cell_type": "code",
   "execution_count": null,
   "metadata": {},
   "outputs": [],
   "source": []
  },
  {
   "cell_type": "code",
   "execution_count": null,
   "metadata": {},
   "outputs": [],
   "source": []
  }
 ],
 "metadata": {
  "kernelspec": {
   "display_name": "Python 2",
   "language": "python",
   "name": "python2"
  },
  "toc": {
   "nav_menu": {},
   "number_sections": true,
   "sideBar": true,
   "skip_h1_title": false,
   "toc_cell": false,
   "toc_position": {},
   "toc_section_display": "block",
   "toc_window_display": false
  },
  "varInspector": {
   "cols": {
    "lenName": 16,
    "lenType": 16,
    "lenVar": 40
   },
   "kernels_config": {
    "python": {
     "delete_cmd_postfix": "",
     "delete_cmd_prefix": "del ",
     "library": "var_list.py",
     "varRefreshCmd": "print(var_dic_list())"
    },
    "r": {
     "delete_cmd_postfix": ") ",
     "delete_cmd_prefix": "rm(",
     "library": "var_list.r",
     "varRefreshCmd": "cat(var_dic_list()) "
    }
   },
   "types_to_exclude": [
    "module",
    "function",
    "builtin_function_or_method",
    "instance",
    "_Feature"
   ],
   "window_display": false
  }
 },
 "nbformat": 4,
 "nbformat_minor": 2
}
