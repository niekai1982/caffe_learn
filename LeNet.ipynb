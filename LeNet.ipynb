{
 "cells": [
  {
   "cell_type": "code",
   "execution_count": 1,
   "metadata": {},
   "outputs": [],
   "source": [
    "from pylab import *\n",
    "%matplotlib inline"
   ]
  },
  {
   "cell_type": "code",
   "execution_count": 2,
   "metadata": {},
   "outputs": [],
   "source": [
    "caffe_root = '/Users/niekai/caffe'"
   ]
  },
  {
   "cell_type": "code",
   "execution_count": 3,
   "metadata": {},
   "outputs": [],
   "source": [
    "import sys"
   ]
  },
  {
   "cell_type": "code",
   "execution_count": 4,
   "metadata": {},
   "outputs": [],
   "source": [
    "sys.path.insert(0, caffe_root + 'python')"
   ]
  },
  {
   "cell_type": "code",
   "execution_count": 5,
   "metadata": {},
   "outputs": [],
   "source": [
    "import caffe"
   ]
  },
  {
   "cell_type": "code",
   "execution_count": 6,
   "metadata": {},
   "outputs": [],
   "source": [
    "import os"
   ]
  },
  {
   "cell_type": "code",
   "execution_count": 7,
   "metadata": {},
   "outputs": [],
   "source": [
    "os.chdir(caffe_root)"
   ]
  },
  {
   "cell_type": "code",
   "execution_count": 8,
   "metadata": {},
   "outputs": [
    {
     "name": "stdout",
     "output_type": "stream",
     "text": [
      "Downloading...\n"
     ]
    }
   ],
   "source": [
    "!data/mnist/get_mnist.sh"
   ]
  },
  {
   "cell_type": "code",
   "execution_count": 9,
   "metadata": {},
   "outputs": [
    {
     "name": "stdout",
     "output_type": "stream",
     "text": [
      "Creating lmdb...\n",
      "I0512 17:45:24.768365 1933950976 db_lmdb.cpp:35] Opened lmdb examples/mnist/mnist_train_lmdb\n",
      "I0512 17:45:24.770372 1933950976 convert_mnist_data.cpp:88] A total of 60000 items.\n",
      "I0512 17:45:24.770401 1933950976 convert_mnist_data.cpp:89] Rows: 28 Cols: 28\n",
      "I0512 17:45:25.644948 1933950976 convert_mnist_data.cpp:108] Processed 60000 files.\n",
      "I0512 17:45:25.701215 1933950976 db_lmdb.cpp:35] Opened lmdb examples/mnist/mnist_test_lmdb\n",
      "I0512 17:45:25.712065 1933950976 convert_mnist_data.cpp:88] A total of 10000 items.\n",
      "I0512 17:45:25.712091 1933950976 convert_mnist_data.cpp:89] Rows: 28 Cols: 28\n",
      "I0512 17:45:25.948837 1933950976 convert_mnist_data.cpp:108] Processed 10000 files.\n",
      "Done.\n"
     ]
    }
   ],
   "source": [
    "!examples/mnist/create_mnist.sh"
   ]
  },
  {
   "cell_type": "markdown",
   "metadata": {},
   "source": [
    "#### caffe LMDB\n",
    "- 基于二叉树的数据库管理库，读取效率更高"
   ]
  },
  {
   "cell_type": "code",
   "execution_count": 10,
   "metadata": {},
   "outputs": [],
   "source": [
    "os.chdir('examples/')"
   ]
  },
  {
   "cell_type": "code",
   "execution_count": 11,
   "metadata": {},
   "outputs": [],
   "source": [
    "from caffe import layers as L, params as P"
   ]
  },
  {
   "cell_type": "code",
   "execution_count": 13,
   "metadata": {},
   "outputs": [],
   "source": [
    "batch_size = 64"
   ]
  },
  {
   "cell_type": "code",
   "execution_count": 14,
   "metadata": {},
   "outputs": [],
   "source": [
    "lmdb = 'mnist/mnist_train_lmdb'"
   ]
  },
  {
   "cell_type": "code",
   "execution_count": 15,
   "metadata": {},
   "outputs": [],
   "source": [
    "def lenet(lmdb, batch_size):\n",
    "    n = caffe.NetSpec()\n",
    "\n",
    "    n.data, n.label = L.Data(batch_size=batch_size, backend=P.Data.LMDB, source=lmdb, \n",
    "                            transform_param=dict(scale=1./255), ntop=2)\n",
    "    n.conv1 = L.Convolution(n.data, kernel_size=5,num_output=20,\n",
    "                          weight_filler=dict(type='xavier'))\n",
    "    n.pool1 = L.Pooling(n.conv1, kernel_size=2, stride=2, pool=P.Pooling.MAX)\n",
    "    n.conv2 = L.Convolution(n.pool1, kernel_size=5, num_output=50, weight_filler=dict(type='xavier'))\n",
    "    n.pool2 = L.Pooling(n.conv2, kernel_size=2, stride=2, pool=P.Pooling.MAX)\n",
    "    n.fc1 = L.InnerProduct(n.pool2, num_output=500, weight_filler=dict(type='xavier'))\n",
    "    n.relu1 = L.ReLU(n.fc1, in_place=True)\n",
    "    n.score = L.InnerProduct(n.relu1, num_output=10, weight_filler=dict(type='xavier'))\n",
    "    n.loss = L.SoftmaxWithLoss(n.score, n.label)\n",
    "    return n.to_proto()"
   ]
  },
  {
   "cell_type": "code",
   "execution_count": 16,
   "metadata": {},
   "outputs": [],
   "source": [
    "with open('mnist/test_net_train.prototxt','w') as f:\n",
    "    f.write(str(lenet('mnist/mnist_train_lmdb', 64)))\n",
    "    \n",
    "with open('mnist/test_net_test.prototxt', 'w') as f:\n",
    "    f.write(str(lenet('mnist/mnist_test_lmdb/', 100)))"
   ]
  },
  {
   "cell_type": "code",
   "execution_count": 17,
   "metadata": {},
   "outputs": [
    {
     "name": "stdout",
     "output_type": "stream",
     "text": [
      "# The train/test net protocol buffer definition\n",
      "train_net: \"mnist/lenet_auto_train.prototxt\"\n",
      "test_net: \"mnist/lenet_auto_test.prototxt\"\n",
      "# test_iter specifies how many forward passes the test should carry out.\n",
      "# In the case of MNIST, we have test batch size 100 and 100 test iterations,\n",
      "# covering the full 10,000 testing images.\n",
      "test_iter: 100\n",
      "# Carry out testing every 500 training iterations.\n",
      "test_interval: 500\n",
      "# The base learning rate, momentum and the weight decay of the network.\n",
      "base_lr: 0.01\n",
      "momentum: 0.9\n",
      "weight_decay: 0.0005\n",
      "# The learning rate policy\n",
      "lr_policy: \"inv\"\n",
      "gamma: 0.0001\n",
      "power: 0.75\n",
      "# Display every 100 iterations\n",
      "display: 100\n",
      "# The maximum number of iterations\n",
      "max_iter: 10000\n",
      "# snapshot intermediate results\n",
      "snapshot: 5000\n",
      "snapshot_prefix: \"mnist/lenet\"\n"
     ]
    }
   ],
   "source": [
    "!cat mnist/lenet_auto_solver.prototxt"
   ]
  },
  {
   "cell_type": "code",
   "execution_count": 18,
   "metadata": {},
   "outputs": [
    {
     "name": "stdout",
     "output_type": "stream",
     "text": [
      "layer {\n",
      "  name: \"data\"\n",
      "  type: \"Data\"\n",
      "  top: \"data\"\n",
      "  top: \"label\"\n",
      "  transform_param {\n",
      "    scale: 0.00392156862745\n",
      "  }\n",
      "  data_param {\n",
      "    source: \"mnist/mnist_train_lmdb\"\n",
      "    batch_size: 64\n",
      "    backend: LMDB\n",
      "  }\n",
      "}\n",
      "layer {\n",
      "  name: \"conv1\"\n",
      "  type: \"Convolution\"\n",
      "  bottom: \"data\"\n",
      "  top: \"conv1\"\n",
      "  convolution_param {\n",
      "    num_output: 20\n",
      "    kernel_size: 5\n",
      "    weight_filler {\n",
      "      type: \"xavier\"\n",
      "    }\n",
      "  }\n",
      "}\n",
      "layer {\n",
      "  name: \"pool1\"\n",
      "  type: \"Pooling\"\n",
      "  bottom: \"conv1\"\n",
      "  top: \"pool1\"\n",
      "  pooling_param {\n",
      "    pool: MAX\n",
      "    kernel_size: 2\n",
      "    stride: 2\n",
      "  }\n",
      "}\n",
      "layer {\n",
      "  name: \"conv2\"\n",
      "  type: \"Convolution\"\n",
      "  bottom: \"pool1\"\n",
      "  top: \"conv2\"\n",
      "  convolution_param {\n",
      "    num_output: 50\n",
      "    kernel_size: 5\n",
      "    weight_filler {\n",
      "      type: \"xavier\"\n",
      "    }\n",
      "  }\n",
      "}\n",
      "layer {\n",
      "  name: \"pool2\"\n",
      "  type: \"Pooling\"\n",
      "  bottom: \"conv2\"\n",
      "  top: \"pool2\"\n",
      "  pooling_param {\n",
      "    pool: MAX\n",
      "    kernel_size: 2\n",
      "    stride: 2\n",
      "  }\n",
      "}\n",
      "layer {\n",
      "  name: \"fc1\"\n",
      "  type: \"InnerProduct\"\n",
      "  bottom: \"pool2\"\n",
      "  top: \"fc1\"\n",
      "  inner_product_param {\n",
      "    num_output: 500\n",
      "    weight_filler {\n",
      "      type: \"xavier\"\n",
      "    }\n",
      "  }\n",
      "}\n",
      "layer {\n",
      "  name: \"relu1\"\n",
      "  type: \"ReLU\"\n",
      "  bottom: \"fc1\"\n",
      "  top: \"fc1\"\n",
      "}\n",
      "layer {\n",
      "  name: \"score\"\n",
      "  type: \"InnerProduct\"\n",
      "  bottom: \"fc1\"\n",
      "  top: \"score\"\n",
      "  inner_product_param {\n",
      "    num_output: 10\n",
      "    weight_filler {\n",
      "      type: \"xavier\"\n",
      "    }\n",
      "  }\n",
      "}\n",
      "layer {\n",
      "  name: \"loss\"\n",
      "  type: \"SoftmaxWithLoss\"\n",
      "  bottom: \"score\"\n",
      "  bottom: \"label\"\n",
      "  top: \"loss\"\n",
      "}\n"
     ]
    }
   ],
   "source": [
    "!cat mnist/test_net_train.prototxt"
   ]
  },
  {
   "cell_type": "code",
   "execution_count": 18,
   "metadata": {},
   "outputs": [],
   "source": [
    "caffe.set_mode_cpu()"
   ]
  },
  {
   "cell_type": "code",
   "execution_count": 19,
   "metadata": {},
   "outputs": [],
   "source": [
    "solver = None"
   ]
  },
  {
   "cell_type": "code",
   "execution_count": 20,
   "metadata": {},
   "outputs": [],
   "source": [
    "solver = caffe.SGDSolver('mnist/test_net_solver.prototxt')"
   ]
  },
  {
   "cell_type": "code",
   "execution_count": 21,
   "metadata": {},
   "outputs": [
    {
     "data": {
      "text/plain": [
       "[('data', (64, 1, 28, 28)),\n",
       " ('label', (64,)),\n",
       " ('conv1', (64, 20, 24, 24)),\n",
       " ('pool1', (64, 20, 12, 12)),\n",
       " ('conv2', (64, 50, 8, 8)),\n",
       " ('pool2', (64, 50, 4, 4)),\n",
       " ('fc1', (64, 500)),\n",
       " ('score', (64, 10)),\n",
       " ('loss', ())]"
      ]
     },
     "execution_count": 21,
     "metadata": {},
     "output_type": "execute_result"
    }
   ],
   "source": [
    "[(k, v.data.shape) for k,v in solver.net.blobs.items()]"
   ]
  },
  {
   "cell_type": "code",
   "execution_count": 24,
   "metadata": {},
   "outputs": [
    {
     "data": {
      "text/plain": [
       "[('conv1', (20, 1, 5, 5)),\n",
       " ('conv2', (50, 20, 5, 5)),\n",
       " ('fc1', (500, 800)),\n",
       " ('score', (10, 500))]"
      ]
     },
     "execution_count": 24,
     "metadata": {},
     "output_type": "execute_result"
    }
   ],
   "source": [
    "[(k, v[0].data.shape) for k,v in solver.net.params.items()]"
   ]
  },
  {
   "cell_type": "code",
   "execution_count": 25,
   "metadata": {},
   "outputs": [
    {
     "data": {
      "text/plain": [
       "{'loss': array(2.3605416, dtype=float32)}"
      ]
     },
     "execution_count": 25,
     "metadata": {},
     "output_type": "execute_result"
    }
   ],
   "source": [
    "solver.net.forward()"
   ]
  },
  {
   "cell_type": "code",
   "execution_count": 26,
   "metadata": {},
   "outputs": [
    {
     "data": {
      "text/plain": [
       "{'loss': array(2.369924, dtype=float32)}"
      ]
     },
     "execution_count": 26,
     "metadata": {},
     "output_type": "execute_result"
    }
   ],
   "source": [
    "solver.test_nets[0].forward()"
   ]
  },
  {
   "cell_type": "code",
   "execution_count": 44,
   "metadata": {},
   "outputs": [
    {
     "name": "stdout",
     "output_type": "stream",
     "text": [
      "train labels: [4. 1. 9. 2. 1. 3. 5. 4.]\n"
     ]
    },
    {
     "data": {
      "image/png": "[encoded data removed]",
      "text/plain": [
       "<matplotlib.figure.Figure at 0x11cc0c250>"
      ]
     },
     "metadata": {},
     "output_type": "display_data"
    }
   ],
   "source": [
    "imshow(solver.net.blobs['data'].data[:20,0].transpose(1,0,2).reshape(28, 20*28), cmap='gray');axis('off')\n",
    "print 'train labels:', solver.net.blobs['label'].data[:8]"
   ]
  },
  {
   "cell_type": "code",
   "execution_count": 32,
   "metadata": {},
   "outputs": [
    {
     "name": "stdout",
     "output_type": "stream",
     "text": [
      " train labels: [7. 2. 1. 0. 4. 1. 4. 9.]\n"
     ]
    },
    {
     "data": {
      "image/png": "[encoded data removed]",
      "text/plain": [
       "<matplotlib.figure.Figure at 0x11491ac90>"
      ]
     },
     "metadata": {},
     "output_type": "display_data"
    }
   ],
   "source": [
    "imshow(solver.net.blobs['data'].data[:8,0].transpose(1,0,2).reshape(28, 8*28), cmap='gray');axis('off')\n",
    "print 'train labels:', solver.test_nets[0].blobs['label'].data[:8]"
   ]
  },
  {
   "cell_type": "code",
   "execution_count": 33,
   "metadata": {},
   "outputs": [
    {
     "name": "stdout",
     "output_type": "stream",
     "text": [
      "Iteration 0 testing...\n",
      "Iteration 25 testing...\n",
      "Iteration 50 testing...\n",
      "Iteration 75 testing...\n",
      "Iteration 100 testing...\n",
      "Iteration 125 testing...\n",
      "Iteration 150 testing...\n",
      "Iteration 175 testing...\n",
      "CPU times: user 2min 8s, sys: 4.28 s, total: 2min 12s\n",
      "Wall time: 2min\n"
     ]
    }
   ],
   "source": [
    "%%time\n",
    "niter = 200\n",
    "test_interval = 25\n",
    "# losses will also be stored in the log\n",
    "train_loss = zeros(niter)\n",
    "test_acc = zeros(int(np.ceil(niter / test_interval)))\n",
    "output = zeros((niter, 8, 10))\n",
    "\n",
    "# the main solver loop\n",
    "for it in range(niter):\n",
    "    solver.step(1)  # SGD by Caffe\n",
    "    \n",
    "    # store the train loss\n",
    "    train_loss[it] = solver.net.blobs['loss'].data\n",
    "    \n",
    "    # store the output on the first test batch\n",
    "    # (start the forward pass at conv1 to avoid loading new data)\n",
    "    solver.test_nets[0].forward(start='conv1')\n",
    "    output[it] = solver.test_nets[0].blobs['score'].data[:8]\n",
    "    \n",
    "    # run a full test every so often\n",
    "    # (Caffe can also do this for us and write to a log, but we show here\n",
    "    #  how to do it directly in Python, where more complicated things are easier.)\n",
    "    if it % test_interval == 0:\n",
    "        print 'Iteration', it, 'testing...'\n",
    "        correct = 0\n",
    "        for test_it in range(100):\n",
    "            solver.test_nets[0].forward()\n",
    "            correct += sum(solver.test_nets[0].blobs['score'].data.argmax(1)\n",
    "                           == solver.test_nets[0].blobs['label'].data)\n",
    "        test_acc[it // test_interval] = correct / 1e4"
   ]
  },
  {
   "cell_type": "code",
   "execution_count": 34,
   "metadata": {},
   "outputs": [
    {
     "data": {
      "text/plain": [
       "Text(0.5,1,u'Test Accuracy: 0.94')"
      ]
     },
     "execution_count": 34,
     "metadata": {},
     "output_type": "execute_result"
    },
    {
     "data": {
      "image/png": "[encoded data removed]",
      "text/plain": [
       "<matplotlib.figure.Figure at 0x11ba664d0>"
      ]
     },
     "metadata": {},
     "output_type": "display_data"
    }
   ],
   "source": [
    "_, ax1 = subplots()\n",
    "ax2 = ax1.twinx()\n",
    "ax1.plot(arange(niter), train_loss)\n",
    "ax2.plot(test_interval * arange(len(test_acc)), test_acc, 'r')\n",
    "ax1.set_xlabel('iteration')\n",
    "ax1.set_ylabel('train loss')\n",
    "ax2.set_ylabel('test accuracy')\n",
    "ax2.set_title('Test Accuracy: {:.2f}'.format(test_acc[-1]))"
   ]
  },
  {
   "cell_type": "code",
   "execution_count": 35,
   "metadata": {},
   "outputs": [
    {
     "data": {
      "image/png": "[encoded data removed]",
      "text/plain": [
       "<matplotlib.figure.Figure at 0x11b7e7550>"
      ]
     },
     "metadata": {},
     "output_type": "display_data"
    },
    {
     "data": {
      "image/png": "[encoded data removed]",
      "text/plain": [
       "<matplotlib.figure.Figure at 0x11ba71e90>"
      ]
     },
     "metadata": {},
     "output_type": "display_data"
    },
    {
     "data": {
      "image/png": "[encoded data removed]",
      "text/plain": [
       "<matplotlib.figure.Figure at 0x11b7f4750>"
      ]
     },
     "metadata": {},
     "output_type": "display_data"
    },
    {
     "data": {
      "image/png": "[encoded data removed]",
      "text/plain": [
       "<matplotlib.figure.Figure at 0x11b3eda90>"
      ]
     },
     "metadata": {},
     "output_type": "display_data"
    },
    {
     "data": {
      "image/png": "[encoded data removed]",
      "text/plain": [
       "<matplotlib.figure.Figure at 0x11ba8ddd0>"
      ]
     },
     "metadata": {},
     "output_type": "display_data"
    },
    {
     "data": {
      "image/png": "[encoded data removed]",
      "text/plain": [
       "<matplotlib.figure.Figure at 0x11b54c390>"
      ]
     },
     "metadata": {},
     "output_type": "display_data"
    },
    {
     "data": {
      "image/png": "[encoded data removed]",
      "text/plain": [
       "<matplotlib.figure.Figure at 0x11b85b5d0>"
      ]
     },
     "metadata": {},
     "output_type": "display_data"
    },
    {
     "data": {
      "image/png": "[encoded data removed]",
      "text/plain": [
       "<matplotlib.figure.Figure at 0x11b7cdc10>"
      ]
     },
     "metadata": {},
     "output_type": "display_data"
    },
    {
     "data": {
      "image/png": "[encoded data removed]",
      "text/plain": [
       "<matplotlib.figure.Figure at 0x11c2db210>"
      ]
     },
     "metadata": {},
     "output_type": "display_data"
    },
    {
     "data": {
      "image/png": "[encoded data removed]",
      "text/plain": [
       "<matplotlib.figure.Figure at 0x11c3170d0>"
      ]
     },
     "metadata": {},
     "output_type": "display_data"
    },
    {
     "data": {
      "image/png": "[encoded data removed]",
      "text/plain": [
       "<matplotlib.figure.Figure at 0x11c363410>"
      ]
     },
     "metadata": {},
     "output_type": "display_data"
    },
    {
     "data": {
      "image/png": "[encoded data removed]",
      "text/plain": [
       "<matplotlib.figure.Figure at 0x11c3b1950>"
      ]
     },
     "metadata": {},
     "output_type": "display_data"
    },
    {
     "data": {
      "image/png": "[encoded data removed]",
      "text/plain": [
       "<matplotlib.figure.Figure at 0x11c3ffe90>"
      ]
     },
     "metadata": {},
     "output_type": "display_data"
    },
    {
     "data": {
      "image/png": "[encoded data removed]",
      "text/plain": [
       "<matplotlib.figure.Figure at 0x11c446b90>"
      ]
     },
     "metadata": {},
     "output_type": "display_data"
    },
    {
     "data": {
      "image/png": "[encoded data removed]",
      "text/plain": [
       "<matplotlib.figure.Figure at 0x11c494fd0>"
      ]
     },
     "metadata": {},
     "output_type": "display_data"
    },
    {
     "data": {
      "image/png": "[encoded data removed]",
      "text/plain": [
       "<matplotlib.figure.Figure at 0x11c4ee450>"
      ]
     },
     "metadata": {},
     "output_type": "display_data"
    }
   ],
   "source": [
    "for i in range(8):\n",
    "    figure(figsize=(2, 2))\n",
    "    imshow(solver.test_nets[0].blobs['data'].data[i, 0], cmap='gray')\n",
    "    figure(figsize=(10, 2))\n",
    "    imshow(output[:50, i].T, interpolation='nearest', cmap='gray')\n",
    "    xlabel('iteration')\n",
    "    ylabel('label')"
   ]
  },
  {
   "cell_type": "code",
   "execution_count": 40,
   "metadata": {},
   "outputs": [
    {
     "name": "stdout",
     "output_type": "stream",
     "text": [
      "Iteration 0 testing...\n",
      "Iteration 500 testing...\n",
      "Iteration 1000 testing...\n",
      "Iteration 1500 testing...\n",
      "Iteration 2000 testing...\n",
      "Iteration 2500 testing...\n",
      "Iteration 3000 testing...\n",
      "Iteration 3500 testing...\n",
      "Iteration 4000 testing...\n",
      "Iteration 4500 testing...\n"
     ]
    },
    {
     "data": {
      "text/plain": [
       "Text(0.5,1,u'Custom Test Accuracy: 0.98')"
      ]
     },
     "execution_count": 40,
     "metadata": {},
     "output_type": "execute_result"
    },
    {
     "data": {
      "image/png": "[encoded data removed]",
      "text/plain": [
       "<matplotlib.figure.Figure at 0x11b3d6210>"
      ]
     },
     "metadata": {},
     "output_type": "display_data"
    }
   ],
   "source": [
    "train_net_path = 'mnist/custom_auto_train.prototxt'\n",
    "test_net_path = 'mnist/custom_auto_test.prototxt'\n",
    "solver_config_path = 'mnist/custom_auto_solver.prototxt'\n",
    "\n",
    "### define net\n",
    "def custom_net(lmdb, batch_size):\n",
    "    # define your own net!\n",
    "    n = caffe.NetSpec()\n",
    "    \n",
    "    # keep this data layer for all networks\n",
    "    n.data, n.label = L.Data(batch_size=batch_size, backend=P.Data.LMDB, source=lmdb,\n",
    "                             transform_param=dict(scale=1./255), ntop=2)\n",
    "    \n",
    "    # EDIT HERE to try different networks\n",
    "    # this single layer defines a simple linear classifier\n",
    "    # (in particular this defines a multiway logistic regression)\n",
    "    # n.score =   L.InnerProduct(n.data, num_output=10, weight_filler=dict(type='xavier'))\n",
    "    \n",
    "    # EDIT HERE this is the LeNet variant we have already tried\n",
    "    n.conv1 = L.Convolution(n.data, kernel_size=5, num_output=20, weight_filler=dict(type='xavier'))\n",
    "    n.pool1 = L.Pooling(n.conv1, kernel_size=2, stride=2, pool=P.Pooling.MAX)\n",
    "    # n.conv2 = L.Convolution(n.pool1, kernel_size=5, num_output=50, weight_filler=dict(type='xavier'))\n",
    "    # n.pool2 = L.Pooling(n.conv2, kernel_size=2, stride=2, pool=P.Pooling.MAX)\n",
    "    n.fc1 =   L.InnerProduct(n.pool1, num_output=500, weight_filler=dict(type='xavier'))\n",
    "    # EDIT HERE consider L.ELU or L.Sigmoid for the nonlinearity\n",
    "    n.relu1 = L.ReLU(n.fc1, in_place=True)\n",
    "    n.score =   L.InnerProduct(n.fc1, num_output=10, weight_filler=dict(type='xavier'))\n",
    "    \n",
    "    # keep this loss layer for all networks\n",
    "    n.loss =  L.SoftmaxWithLoss(n.score, n.label)\n",
    "    \n",
    "    return n.to_proto()\n",
    "\n",
    "with open(train_net_path, 'w') as f:\n",
    "    f.write(str(custom_net('mnist/mnist_train_lmdb', 64)))    \n",
    "with open(test_net_path, 'w') as f:\n",
    "    f.write(str(custom_net('mnist/mnist_test_lmdb', 100)))\n",
    "\n",
    "### define solver\n",
    "from caffe.proto import caffe_pb2\n",
    "s = caffe_pb2.SolverParameter()\n",
    "\n",
    "# Set a seed for reproducible experiments:\n",
    "# this controls for randomization in training.\n",
    "s.random_seed = 0xCAFFE\n",
    "\n",
    "# Specify locations of the train and (maybe) test networks.\n",
    "s.train_net = train_net_path\n",
    "s.test_net.append(test_net_path)\n",
    "s.test_interval = 500  # Test after every 500 training iterations.\n",
    "s.test_iter.append(100) # Test on 100 batches each time we test.\n",
    "\n",
    "s.max_iter = 10000     # no. of times to update the net (training iterations)\n",
    " \n",
    "# EDIT HERE to try different solvers\n",
    "# solver types include \"SGD\", \"Adam\", and \"Nesterov\" among others.\n",
    "s.type = \"SGD\"\n",
    "\n",
    "# Set the initial learning rate for SGD.\n",
    "s.base_lr = 0.01  # EDIT HERE to try different learning rates\n",
    "# Set momentum to accelerate learning by\n",
    "# taking weighted average of current and previous updates.\n",
    "s.momentum = 0.9\n",
    "# Set weight decay to regularize and prevent overfitting\n",
    "s.weight_decay = 5e-4\n",
    "\n",
    "# Set `lr_policy` to define how the learning rate changes during training.\n",
    "# This is the same policy as our default LeNet.\n",
    "s.lr_policy = 'inv'\n",
    "s.gamma = 0.0001\n",
    "s.power = 0.75\n",
    "# EDIT HERE to try the fixed rate (and compare with adaptive solvers)\n",
    "# `fixed` is the simplest policy that keeps the learning rate constant.\n",
    "# s.lr_policy = 'fixed'\n",
    "\n",
    "# Display the current training loss and accuracy every 1000 iterations.\n",
    "s.display = 1000\n",
    "\n",
    "# Snapshots are files used to store networks we've trained.\n",
    "# We'll snapshot every 5K iterations -- twice during training.\n",
    "s.snapshot = 5000\n",
    "s.snapshot_prefix = 'mnist/custom_net'\n",
    "\n",
    "# Train on the GPU\n",
    "s.solver_mode = caffe_pb2.SolverParameter.GPU\n",
    "\n",
    "# Write the solver to a temporary file and return its filename.\n",
    "with open(solver_config_path, 'w') as f:\n",
    "    f.write(str(s))\n",
    "\n",
    "### load the solver and create train and test nets\n",
    "solver = None  # ignore this workaround for lmdb data (can't instantiate two solvers on the same data)\n",
    "solver = caffe.get_solver(solver_config_path)\n",
    "\n",
    "### solve\n",
    "niter = 5000  # EDIT HERE increase to train for longer\n",
    "test_interval = niter / 10\n",
    "# losses will also be stored in the log\n",
    "train_loss = zeros(niter)\n",
    "test_acc = zeros(int(np.ceil(niter / test_interval)))\n",
    "\n",
    "# the main solver loop\n",
    "for it in range(niter):\n",
    "    solver.step(1)  # SGD by Caffe\n",
    "    \n",
    "    # store the train loss\n",
    "    train_loss[it] = solver.net.blobs['loss'].data\n",
    "    \n",
    "    # run a full test every so often\n",
    "    # (Caffe can also do this for us and write to a log, but we show here\n",
    "    #  how to do it directly in Python, where more complicated things are easier.)\n",
    "    if it % test_interval == 0:\n",
    "        print 'Iteration', it, 'testing...'\n",
    "        correct = 0\n",
    "        for test_it in range(100):\n",
    "            solver.test_nets[0].forward()\n",
    "            correct += sum(solver.test_nets[0].blobs['score'].data.argmax(1)\n",
    "                           == solver.test_nets[0].blobs['label'].data)\n",
    "        test_acc[it // test_interval] = correct / 1e4\n",
    "\n",
    "_, ax1 = subplots()\n",
    "ax2 = ax1.twinx()\n",
    "ax1.plot(arange(niter), train_loss)\n",
    "ax2.plot(test_interval * arange(len(test_acc)), test_acc, 'r')\n",
    "ax1.set_xlabel('iteration')\n",
    "ax1.set_ylabel('train loss')\n",
    "ax2.set_ylabel('test accuracy')\n",
    "ax2.set_title('Custom Test Accuracy: {:.2f}'.format(test_acc[-1]))"
   ]
  },
  {
   "cell_type": "code",
   "execution_count": null,
   "metadata": {},
   "outputs": [],
   "source": []
  }
 ],
 "metadata": {
  "kernelspec": {
   "display_name": "Python 2",
   "language": "python",
   "name": "python2"
  },
  "language_info": {
   "codemirror_mode": {
    "name": "ipython",
    "version": 2
   },
   "file_extension": ".py",
   "mimetype": "text/x-python",
   "name": "python",
   "nbconvert_exporter": "python",
   "pygments_lexer": "ipython2",
   "version": "2.7.10"
  }
 },
 "nbformat": 4,
 "nbformat_minor": 2
}
